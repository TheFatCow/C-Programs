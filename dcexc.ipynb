{
 "cells": [
  {
   "cell_type": "code",
   "execution_count": null,
   "metadata": {},
   "outputs": [],
   "source": [
    "# Import libraries\n",
    "from mpl_toolkits import mplot3d\n",
    "import numpy as np\n",
    "import matplotlib.pyplot as plt\n",
    "# Creating dataset\n",
    "x = np.outer(np.linspace(-3, 3, 2000), np.ones(2000))\n",
    "y = x.copy().T # transpose\n",
    "z = x**3+y**3-3*x-12*y+20\n",
    "# Creating figure\n",
    "fig = plt.figure(figsize =(15, 15))\n",
    "ax = plt.axes(projection ='3d')\n",
    "# Creating plot\n",
    "ax.plot_surface(x, y, z)\n",
    "# show plot\n",
    "plt.show()\n"
   ]
  },
  {
   "cell_type": "code",
   "execution_count": 6,
   "metadata": {},
   "outputs": [
    {
     "name": "stdout",
     "output_type": "stream",
     "text": [
      " Solution set for x= [-1, 1] \n",
      " Solution set for y= [-2, 2]\n",
      "f takes Maximum value at ( -1 , -2 )\n",
      "Functional value is f(x,y)= 38.0000000000000\n"
     ]
    }
   ],
   "source": [
    "\n",
    "# derivative\n",
    "import sympy\n",
    "from sympy import Symbol , solve , Derivative , pprint\n",
    "x= Symbol('x')\n",
    "y= Symbol('y')\n",
    "f=x**3+y**3-3*x-12*y+20\n",
    "d1= Derivative (f , x ).doit ()\n",
    "d2= Derivative (f , y ).doit ()\n",
    "criticalpoints1 = solve( d1)\n",
    "criticalpoints2 = solve( d2 )\n",
    "print(' Solution set for x=',criticalpoints1,\n",
    "'\\n Solution set for y=', criticalpoints2)\n",
    "s1= Derivative(f ,x , 2 ).doit()\n",
    "s2= Derivative(f ,y , 2 ).doit()\n",
    "s3= Derivative( Derivative(f , y ) ,x ) .doit()\n",
    "q1=s1.subs({x: criticalpoints1[0], y: criticalpoints2[0]}).evalf ()\n",
    "q2=s2.subs({x: criticalpoints1[0], y: criticalpoints2[0]}).evalf ()\n",
    "q3=s3.subs({x: criticalpoints1[0], y: criticalpoints2[0]}).evalf ()\n",
    "delta =q1*q2-q3 ** 2\n",
    "if( delta >0 and q1<0 ):\n",
    "    print(\"f takes Maximum value at\",'(',criticalpoints1[0] ,',',criticalpoints2[0],')')\n",
    "elif( delta >0 and q1>0 ):\n",
    "    print(\" f takes Minimum value at\",'(',criticalpoints1[0] ,',',criticalpoints2[0],')')\n",
    "if( delta <0 ):\n",
    "    print (\"The point is a saddle point at\",'(',criticalpoints1[0],',',criticalpoints2[0],')' )\n",
    "if( delta ==0 ):\n",
    "    print(\" Further tests required at\",'(',criticalpoints1[0] ,',',criticalpoints2[0],')' )\n",
    "f1=f.subs ({x: criticalpoints1[0],y: criticalpoints2[0]}).evalf()\n",
    "print('Functional value is f(x,y)=',f1)\n"
   ]
  },
  {
   "cell_type": "code",
   "execution_count": null,
   "metadata": {},
   "outputs": [],
   "source": [
    "\n",
    "#Gauss Sidel Method\n",
    "import numpy as np\n",
    "from scipy.linalg import solve\n",
    "\n",
    "def Gauss_Seidel(A, B, x,n):\n",
    "    L=np.tril(A)\n",
    "    U=A-L\n",
    "    counter =0\n",
    "    print(\"Iteration\\tX\\tY\\tZ\")\n",
    "    for i in range(n):\n",
    "        x=np.dot(np.linalg.inv(L),B-np.dot(U,x))\n",
    "        print(f\"    {counter}\\t\",x)\n",
    "        counter = counter+1\n",
    "    return x\n",
    "\n",
    "A=eval(input('Enter the matrix A:'))\n",
    "B=eval(input('Enter the matrix B:'))\n",
    "x=eval(input('Enter the guess  x: '))\n",
    "n=eval(input('Enter the number of iterations: '))\n",
    "x=Gauss_Seidel(A,B,x,n)\n",
    "print('Solution using the solve syntax: \\n',solve(A,B))    #np.array([[20,1,-2],[3,20,-1],[2,-3,20]])  [17,-18,25]  [0,0,0]  25"
   ]
  },
  {
   "cell_type": "code",
   "execution_count": null,
   "metadata": {},
   "outputs": [
    {
     "data": {
      "text/plain": [
       "[Eq(y(x), (x**3/(C1 + 3*sin(x)))**(1/3)),\n",
       " Eq(y(x), (x**3/(C1 + 3*sin(x)))**(1/3)*(-1 - sqrt(3)*I)/2),\n",
       " Eq(y(x), (x**3/(C1 + 3*sin(x)))**(1/3)*(-1 + sqrt(3)*I)/2)]"
      ]
     },
     "metadata": {},
     "output_type": "display_data"
    }
   ],
   "source": [
    "    \n",
    "#solve derivative\n",
    "from sympy import *\n",
    "from IPython.display import display\n",
    "\n",
    "x, y = symbols('x y')\n",
    "y = Function('y')(x)\n",
    "y1 = Derivative(y, x)\n",
    "eq = x**3 * y1 - x**2 * y + y**4 * cos(x)\n",
    "z1 = dsolve(eq, y)\n",
    "display(z1)\n",
    "\n"
   ]
  },
  {
   "cell_type": "code",
   "execution_count": null,
   "metadata": {},
   "outputs": [],
   "source": [
    "#graph\n",
    "import numpy as np\n",
    "from scipy . integrate import odeint\n",
    "import matplotlib . pyplot as plt\n",
    "def model (y,t):\n",
    "    k=0.3\n",
    "    return -k*y\n",
    "y0=5\n",
    "t=np. linspace (0,20)\n",
    "y= odeint (model ,y0 ,t)\n",
    "plt . plot (t,y)\n",
    "plt . title ('Solution of dy/dt=-ky; k=0.3, y(0)=5')\n",
    "plt . xlabel ('time ')\n",
    "plt . ylabel ('y(t)')\n",
    "plt . show ()"
   ]
  },
  {
   "cell_type": "code",
   "execution_count": 1,
   "metadata": {},
   "outputs": [
    {
     "name": "stdout",
     "output_type": "stream",
     "text": [
      "\n",
      " Given matrix : \n",
      " [[ 6 -2  2]\n",
      " [-2  3 -1]\n",
      " [ 2 -1  3]]\n",
      "\n",
      " Eigen values : \n",
      " [8. 2. 2.]\n",
      "\n",
      " Eigen vectors : \n",
      " [[ 0.81649658 -0.57735027 -0.11547005]\n",
      " [-0.40824829 -0.57735027  0.57735027]\n",
      " [ 0.40824829  0.57735027  0.80829038]]\n",
      " Eigen value :\n",
      "  7.999999999999999\n",
      "\n",
      " Corresponding Eigen vector : [ 0.81649658 -0.40824829  0.40824829]\n",
      " Eigen value :\n",
      "  1.9999999999999982\n",
      "\n",
      " Corresponding Eigen vector : [-0.57735027 -0.57735027  0.57735027]\n",
      " Eigen value :\n",
      "  2.0\n",
      "\n",
      " Corresponding Eigen vector : [-0.11547005  0.57735027  0.80829038]\n"
     ]
    },
    {
     "ename": "",
     "evalue": "",
     "output_type": "error",
     "traceback": [
      "\u001b[1;31mThe Kernel crashed while executing code in the the current cell or a previous cell. Please review the code in the cell(s) to identify a possible cause of the failure. Click <a href='https://aka.ms/vscodeJupyterKernelCrash'>here</a> for more info. View Jupyter <a href='command:jupyter.viewOutput'>log</a> for further details."
     ]
    }
   ],
   "source": [
    "#Eigen Values and Eigen Vectors\n",
    "\n",
    "import numpy as np \n",
    "I=np. array ([[6,-2,2],[-2,3,-1],[2,-1 ,3]]) \n",
    "print (\"\\n Given matrix : \\n\", I) \n",
    "w,v = np.linalg.eig(I)\n",
    "print (\"\\n Eigen values : \\n\", w)\n",
    "print (\"\\n Eigen vectors : \\n\", v) \n",
    "## To display one eigen value and corresponding eigen vector \n",
    "for i in range(3): \n",
    "    print (\" Eigen value :\\n \", w[i]) \n",
    "    print (\"\\n Corresponding Eigen vector :\", v[:,i])"
   ]
  },
  {
   "cell_type": "code",
   "execution_count": 2,
   "metadata": {},
   "outputs": [
    {
     "name": "stdout",
     "output_type": "stream",
     "text": [
      "<class 'float'>\n"
     ]
    }
   ],
   "source": [
    "x=1.532\n",
    "print(type(x))"
   ]
  }
 ],
 "metadata": {
  "kernelspec": {
   "display_name": "Python 3",
   "language": "python",
   "name": "python3"
  },
  "language_info": {
   "codemirror_mode": {
    "name": "ipython",
    "version": 3
   },
   "file_extension": ".py",
   "mimetype": "text/x-python",
   "name": "python",
   "nbconvert_exporter": "python",
   "pygments_lexer": "ipython3",
   "version": "3.9.2"
  }
 },
 "nbformat": 4,
 "nbformat_minor": 2
}
